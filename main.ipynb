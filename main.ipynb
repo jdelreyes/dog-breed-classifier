{
  "cells": [
    {
      "cell_type": "code",
      "id": "initial_id",
      "metadata": {
        "collapsed": true,
        "jupyter": {
          "outputs_hidden": true
        },
        "ExecuteTime": {
          "end_time": "2024-04-11T04:32:26.184056Z",
          "start_time": "2024-04-11T04:32:26.150722Z"
        },
        "id": "initial_id"
      },
      "source": [
        "import os, shutil\n",
        "\n",
        "import keras\n",
        "from keras.constraints import max_norm\n",
        "\n",
        "import matplotlib.pyplot as plt\n",
        "import tensorflow as tf\n",
        "\n",
        "import numpy as np"
      ],
      "outputs": [],
      "execution_count": 1
    },
    {
      "cell_type": "markdown",
      "source": [
        "# google drive"
      ],
      "metadata": {
        "id": "bffkePZrbr-s"
      },
      "id": "bffkePZrbr-s"
    },
    {
      "cell_type": "code",
      "source": [
        "from google.colab import drive\n",
        "drive.mount('/content/drive')"
      ],
      "metadata": {
        "colab": {
          "base_uri": "https://localhost:8080/",
          "height": 304
        },
        "id": "POeGHV6NhqOd",
        "outputId": "7ac9d3a0-363e-4f1f-f05b-ee390c6353ff"
      },
      "id": "POeGHV6NhqOd",
      "execution_count": 2,
      "outputs": [
        {
          "output_type": "error",
          "ename": "MessageError",
          "evalue": "Error: credential propagation was unsuccessful",
          "traceback": [
            "\u001b[0;31m---------------------------------------------------------------------------\u001b[0m",
            "\u001b[0;31mMessageError\u001b[0m                              Traceback (most recent call last)",
            "\u001b[0;32m<ipython-input-2-d5df0069828e>\u001b[0m in \u001b[0;36m<cell line: 2>\u001b[0;34m()\u001b[0m\n\u001b[1;32m      1\u001b[0m \u001b[0;32mfrom\u001b[0m \u001b[0mgoogle\u001b[0m\u001b[0;34m.\u001b[0m\u001b[0mcolab\u001b[0m \u001b[0;32mimport\u001b[0m \u001b[0mdrive\u001b[0m\u001b[0;34m\u001b[0m\u001b[0;34m\u001b[0m\u001b[0m\n\u001b[0;32m----> 2\u001b[0;31m \u001b[0mdrive\u001b[0m\u001b[0;34m.\u001b[0m\u001b[0mmount\u001b[0m\u001b[0;34m(\u001b[0m\u001b[0;34m'/content/drive'\u001b[0m\u001b[0;34m)\u001b[0m\u001b[0;34m\u001b[0m\u001b[0;34m\u001b[0m\u001b[0m\n\u001b[0m",
            "\u001b[0;32m/usr/local/lib/python3.10/dist-packages/google/colab/drive.py\u001b[0m in \u001b[0;36mmount\u001b[0;34m(mountpoint, force_remount, timeout_ms, readonly)\u001b[0m\n\u001b[1;32m     98\u001b[0m \u001b[0;32mdef\u001b[0m \u001b[0mmount\u001b[0m\u001b[0;34m(\u001b[0m\u001b[0mmountpoint\u001b[0m\u001b[0;34m,\u001b[0m \u001b[0mforce_remount\u001b[0m\u001b[0;34m=\u001b[0m\u001b[0;32mFalse\u001b[0m\u001b[0;34m,\u001b[0m \u001b[0mtimeout_ms\u001b[0m\u001b[0;34m=\u001b[0m\u001b[0;36m120000\u001b[0m\u001b[0;34m,\u001b[0m \u001b[0mreadonly\u001b[0m\u001b[0;34m=\u001b[0m\u001b[0;32mFalse\u001b[0m\u001b[0;34m)\u001b[0m\u001b[0;34m:\u001b[0m\u001b[0;34m\u001b[0m\u001b[0;34m\u001b[0m\u001b[0m\n\u001b[1;32m     99\u001b[0m   \u001b[0;34m\"\"\"Mount your Google Drive at the specified mountpoint path.\"\"\"\u001b[0m\u001b[0;34m\u001b[0m\u001b[0;34m\u001b[0m\u001b[0m\n\u001b[0;32m--> 100\u001b[0;31m   return _mount(\n\u001b[0m\u001b[1;32m    101\u001b[0m       \u001b[0mmountpoint\u001b[0m\u001b[0;34m,\u001b[0m\u001b[0;34m\u001b[0m\u001b[0;34m\u001b[0m\u001b[0m\n\u001b[1;32m    102\u001b[0m       \u001b[0mforce_remount\u001b[0m\u001b[0;34m=\u001b[0m\u001b[0mforce_remount\u001b[0m\u001b[0;34m,\u001b[0m\u001b[0;34m\u001b[0m\u001b[0;34m\u001b[0m\u001b[0m\n",
            "\u001b[0;32m/usr/local/lib/python3.10/dist-packages/google/colab/drive.py\u001b[0m in \u001b[0;36m_mount\u001b[0;34m(mountpoint, force_remount, timeout_ms, ephemeral, readonly)\u001b[0m\n\u001b[1;32m    131\u001b[0m   )\n\u001b[1;32m    132\u001b[0m   \u001b[0;32mif\u001b[0m \u001b[0mephemeral\u001b[0m\u001b[0;34m:\u001b[0m\u001b[0;34m\u001b[0m\u001b[0;34m\u001b[0m\u001b[0m\n\u001b[0;32m--> 133\u001b[0;31m     _message.blocking_request(\n\u001b[0m\u001b[1;32m    134\u001b[0m         \u001b[0;34m'request_auth'\u001b[0m\u001b[0;34m,\u001b[0m \u001b[0mrequest\u001b[0m\u001b[0;34m=\u001b[0m\u001b[0;34m{\u001b[0m\u001b[0;34m'authType'\u001b[0m\u001b[0;34m:\u001b[0m \u001b[0;34m'dfs_ephemeral'\u001b[0m\u001b[0;34m}\u001b[0m\u001b[0;34m,\u001b[0m \u001b[0mtimeout_sec\u001b[0m\u001b[0;34m=\u001b[0m\u001b[0;32mNone\u001b[0m\u001b[0;34m\u001b[0m\u001b[0;34m\u001b[0m\u001b[0m\n\u001b[1;32m    135\u001b[0m     )\n",
            "\u001b[0;32m/usr/local/lib/python3.10/dist-packages/google/colab/_message.py\u001b[0m in \u001b[0;36mblocking_request\u001b[0;34m(request_type, request, timeout_sec, parent)\u001b[0m\n\u001b[1;32m    174\u001b[0m       \u001b[0mrequest_type\u001b[0m\u001b[0;34m,\u001b[0m \u001b[0mrequest\u001b[0m\u001b[0;34m,\u001b[0m \u001b[0mparent\u001b[0m\u001b[0;34m=\u001b[0m\u001b[0mparent\u001b[0m\u001b[0;34m,\u001b[0m \u001b[0mexpect_reply\u001b[0m\u001b[0;34m=\u001b[0m\u001b[0;32mTrue\u001b[0m\u001b[0;34m\u001b[0m\u001b[0;34m\u001b[0m\u001b[0m\n\u001b[1;32m    175\u001b[0m   )\n\u001b[0;32m--> 176\u001b[0;31m   \u001b[0;32mreturn\u001b[0m \u001b[0mread_reply_from_input\u001b[0m\u001b[0;34m(\u001b[0m\u001b[0mrequest_id\u001b[0m\u001b[0;34m,\u001b[0m \u001b[0mtimeout_sec\u001b[0m\u001b[0;34m)\u001b[0m\u001b[0;34m\u001b[0m\u001b[0;34m\u001b[0m\u001b[0m\n\u001b[0m",
            "\u001b[0;32m/usr/local/lib/python3.10/dist-packages/google/colab/_message.py\u001b[0m in \u001b[0;36mread_reply_from_input\u001b[0;34m(message_id, timeout_sec)\u001b[0m\n\u001b[1;32m    101\u001b[0m     ):\n\u001b[1;32m    102\u001b[0m       \u001b[0;32mif\u001b[0m \u001b[0;34m'error'\u001b[0m \u001b[0;32min\u001b[0m \u001b[0mreply\u001b[0m\u001b[0;34m:\u001b[0m\u001b[0;34m\u001b[0m\u001b[0;34m\u001b[0m\u001b[0m\n\u001b[0;32m--> 103\u001b[0;31m         \u001b[0;32mraise\u001b[0m \u001b[0mMessageError\u001b[0m\u001b[0;34m(\u001b[0m\u001b[0mreply\u001b[0m\u001b[0;34m[\u001b[0m\u001b[0;34m'error'\u001b[0m\u001b[0;34m]\u001b[0m\u001b[0;34m)\u001b[0m\u001b[0;34m\u001b[0m\u001b[0;34m\u001b[0m\u001b[0m\n\u001b[0m\u001b[1;32m    104\u001b[0m       \u001b[0;32mreturn\u001b[0m \u001b[0mreply\u001b[0m\u001b[0;34m.\u001b[0m\u001b[0mget\u001b[0m\u001b[0;34m(\u001b[0m\u001b[0;34m'data'\u001b[0m\u001b[0;34m,\u001b[0m \u001b[0;32mNone\u001b[0m\u001b[0;34m)\u001b[0m\u001b[0;34m\u001b[0m\u001b[0;34m\u001b[0m\u001b[0m\n\u001b[1;32m    105\u001b[0m \u001b[0;34m\u001b[0m\u001b[0m\n",
            "\u001b[0;31mMessageError\u001b[0m: Error: credential propagation was unsuccessful"
          ]
        }
      ]
    },
    {
      "cell_type": "markdown",
      "source": [
        "# google drive path"
      ],
      "metadata": {
        "id": "ZcjNisUKbyUZ"
      },
      "id": "ZcjNisUKbyUZ"
    },
    {
      "cell_type": "code",
      "source": [
        "original_data_dir = '/content/drive/MyDrive/Colab Notebooks/dog-breed-classifier-small/dog-breeds'\n",
        "base_dir = '/content/drive/MyDrive/Colab Notebooks/dog-breed-classifier-small/load-data'"
      ],
      "metadata": {
        "id": "XF1eVsxWbwhw"
      },
      "id": "XF1eVsxWbwhw",
      "execution_count": null,
      "outputs": []
    },
    {
      "cell_type": "markdown",
      "source": [
        "# Local Path"
      ],
      "metadata": {
        "id": "kHw_lZU7cB5N"
      },
      "id": "kHw_lZU7cB5N"
    },
    {
      "cell_type": "code",
      "source": [
        "original_data_dir = './dog-breeds'\n",
        "base_dir = './load-data'"
      ],
      "metadata": {
        "id": "7Peg_uRJcFKm"
      },
      "id": "7Peg_uRJcFKm",
      "execution_count": null,
      "outputs": []
    },
    {
      "cell_type": "code",
      "id": "56a5a09c77b16a57",
      "metadata": {
        "ExecuteTime": {
          "end_time": "2024-04-11T04:32:26.234779Z",
          "start_time": "2024-04-11T04:32:26.224049Z"
        },
        "id": "56a5a09c77b16a57"
      },
      "source": [
        "train_dir = os.path.join(base_dir, 'train')\n",
        "validation_dir = os.path.join(base_dir, 'validation')\n",
        "test_dir = os.path.join(base_dir, 'test')"
      ],
      "outputs": [],
      "execution_count": null
    },
    {
      "cell_type": "code",
      "id": "5187351e3b56570a",
      "metadata": {
        "ExecuteTime": {
          "end_time": "2024-04-11T04:32:26.285775Z",
          "start_time": "2024-04-11T04:32:26.277895Z"
        },
        "id": "5187351e3b56570a"
      },
      "source": [
        "os.mkdir(base_dir)\n",
        "os.mkdir(train_dir)\n",
        "os.mkdir(validation_dir)\n",
        "os.mkdir(test_dir)"
      ],
      "outputs": [],
      "execution_count": null
    },
    {
      "cell_type": "code",
      "id": "e3a87db9070f3208",
      "metadata": {
        "ExecuteTime": {
          "end_time": "2024-04-11T04:32:26.384687Z",
          "start_time": "2024-04-11T04:32:26.377601Z"
        },
        "id": "e3a87db9070f3208"
      },
      "source": [
        "dog_breed_dir_list = os.listdir(original_data_dir)\n",
        "dog_breeds = {}"
      ],
      "outputs": [],
      "execution_count": null
    },
    {
      "cell_type": "code",
      "id": "8299be63945b1cff",
      "metadata": {
        "ExecuteTime": {
          "end_time": "2024-04-11T04:32:26.878887Z",
          "start_time": "2024-04-11T04:32:26.431109Z"
        },
        "id": "8299be63945b1cff"
      },
      "source": [
        "for dog_breed_dir in dog_breed_dir_list:\n",
        "    DIR = os.path.join(original_data_dir, dog_breed_dir)\n",
        "\n",
        "    size = len([name for name in os.listdir(DIR) if os.path.isfile(os.path.join(DIR, name))])\n",
        "    dog_breeds[dog_breed_dir] = {'size': size}"
      ],
      "outputs": [],
      "execution_count": null
    },
    {
      "cell_type": "code",
      "id": "853fb4a342253e8c",
      "metadata": {
        "ExecuteTime": {
          "end_time": "2024-04-11T04:33:15.998029Z",
          "start_time": "2024-04-11T04:32:26.883059Z"
        },
        "id": "853fb4a342253e8c"
      },
      "source": [
        "for dog_breed in dog_breeds:\n",
        "    TEN_PERCENT = round(dog_breeds[dog_breed]['size'] * 0.1)\n",
        "    EIGHTY_PERCENT = round(dog_breeds[dog_breed]['size'] * 0.8)\n",
        "\n",
        "    validation_size = TEN_PERCENT\n",
        "    test_size = TEN_PERCENT + TEN_PERCENT\n",
        "    training_size = TEN_PERCENT + TEN_PERCENT + EIGHTY_PERCENT\n",
        "\n",
        "    dog_breed_validation_dir = os.path.join(validation_dir, dog_breed)\n",
        "    dog_breed_test_dir = os.path.join(test_dir, dog_breed)\n",
        "    dog_breed_train_dir = os.path.join(train_dir, dog_breed)\n",
        "\n",
        "    os.mkdir(dog_breed_validation_dir)\n",
        "    os.mkdir(dog_breed_test_dir)\n",
        "    os.mkdir(dog_breed_train_dir)\n",
        "\n",
        "    for x in ['{}.jpg'.format(i) for i in range(1, validation_size)]:\n",
        "        src = os.path.join(original_data_dir, dog_breed, x)\n",
        "        dst = os.path.join(dog_breed_validation_dir, x)\n",
        "        shutil.copyfile(src, dst)\n",
        "\n",
        "    for x in ['{}.jpg'.format(i) for i in range(validation_size, test_size)]:\n",
        "        src = os.path.join(original_data_dir, dog_breed, x)\n",
        "        dst = os.path.join(dog_breed_test_dir, x)\n",
        "        shutil.copyfile(src, dst)\n",
        "\n",
        "    for x in ['{}.jpg'.format(i) for i in range(test_size, training_size)]:\n",
        "        src = os.path.join(original_data_dir, dog_breed, x)\n",
        "        dst = os.path.join(dog_breed_train_dir, x)\n",
        "        shutil.copyfile(src, dst)"
      ],
      "outputs": [],
      "execution_count": null
    },
    {
      "cell_type": "markdown",
      "source": [
        "# Convolution"
      ],
      "metadata": {
        "id": "iiXQbM_vGCTM"
      },
      "id": "iiXQbM_vGCTM"
    },
    {
      "cell_type": "code",
      "source": [
        "from keras.applications import VGG16"
      ],
      "metadata": {
        "id": "feS-B6WIVCJV"
      },
      "id": "feS-B6WIVCJV",
      "execution_count": null,
      "outputs": []
    },
    {
      "cell_type": "code",
      "source": [
        "conv_base = VGG16(weights='imagenet',\n",
        "                  include_top=False,\n",
        "                  input_shape=(150, 150, 3))"
      ],
      "metadata": {
        "id": "phpMoKeAVItV"
      },
      "id": "phpMoKeAVItV",
      "execution_count": null,
      "outputs": []
    },
    {
      "cell_type": "code",
      "source": [
        "conv_base.trainable = False"
      ],
      "metadata": {
        "id": "Lw9dsoI_VkCw"
      },
      "id": "Lw9dsoI_VkCw",
      "execution_count": null,
      "outputs": []
    },
    {
      "cell_type": "code",
      "source": [
        "num_classes = 10\n",
        "batch_size = 512\n",
        "target_size = 150"
      ],
      "metadata": {
        "id": "_X-wnh2S3WVS"
      },
      "id": "_X-wnh2S3WVS",
      "execution_count": null,
      "outputs": []
    },
    {
      "cell_type": "code",
      "id": "4fac219537613786",
      "metadata": {
        "ExecuteTime": {
          "end_time": "2024-04-11T04:33:16.449971Z",
          "start_time": "2024-04-11T04:33:16.001992Z"
        },
        "id": "4fac219537613786"
      },
      "source": [
        "model = keras.Sequential([\n",
        "    conv_base,\n",
        "    keras.layers.Flatten(),\n",
        "    keras.layers.Dense(512, activation='relu'),\n",
        "    keras.layers.Dropout(0.5),\n",
        "    keras.layers.Dense(256, activation='relu'),\n",
        "    keras.layers.Dropout(0.5),\n",
        "    keras.layers.Dense(128, activation='relu'),\n",
        "    keras.layers.Dropout(0.5),\n",
        "    keras.layers.Dense(num_classes, activation='softmax')\n",
        "])"
      ],
      "outputs": [],
      "execution_count": null
    },
    {
      "cell_type": "code",
      "id": "a665d003be4cb82f",
      "metadata": {
        "ExecuteTime": {
          "end_time": "2024-04-11T04:33:16.474017Z",
          "start_time": "2024-04-11T04:33:16.455098Z"
        },
        "id": "a665d003be4cb82f"
      },
      "source": [
        "model.compile(optimizer=\"adam\", loss='categorical_crossentropy', metrics=['accuracy'])"
      ],
      "outputs": [],
      "execution_count": null
    },
    {
      "cell_type": "code",
      "source": [
        "model.summary()"
      ],
      "metadata": {
        "id": "5JVcg2jfQ7mv"
      },
      "id": "5JVcg2jfQ7mv",
      "execution_count": null,
      "outputs": []
    },
    {
      "cell_type": "code",
      "source": [
        "train_datagen = tf.keras.preprocessing.image.ImageDataGenerator(\n",
        "    rescale=1./255,\n",
        "    rotation_range=40,\n",
        "    width_shift_range=0.2,\n",
        "    height_shift_range=0.2,\n",
        "    shear_range=0.2,\n",
        "    zoom_range=0.2,\n",
        "    horizontal_flip=True,\n",
        "    fill_mode='nearest'\n",
        ")\n",
        "\n",
        "test_datagen = tf.keras.preprocessing.image.ImageDataGenerator(rescale=1./255)\n",
        "\n",
        "train_generator = train_datagen.flow_from_directory(\n",
        "    train_dir,\n",
        "    target_size=(target_size, target_size),\n",
        "    batch_size=batch_size,\n",
        "    class_mode='categorical'\n",
        ")\n",
        "\n",
        "validation_generator = test_datagen.flow_from_directory(\n",
        "    validation_dir,\n",
        "    target_size=(target_size, target_size),\n",
        "    batch_size=batch_size,\n",
        "    class_mode='categorical'\n",
        ")\n",
        "\n",
        "test_generator = test_datagen.flow_from_directory(\n",
        "    test_dir,\n",
        "    target_size=(target_size, target_size),\n",
        "    batch_size=batch_size,\n",
        "    class_mode='categorical'\n",
        ")"
      ],
      "metadata": {
        "id": "4IfiimBjGSzm"
      },
      "id": "4IfiimBjGSzm",
      "execution_count": null,
      "outputs": []
    },
    {
      "cell_type": "code",
      "id": "d675f1d8a9f98a1",
      "metadata": {
        "ExecuteTime": {
          "end_time": "2024-04-11T04:49:09.901742Z",
          "start_time": "2024-04-11T04:33:18.350835Z"
        },
        "id": "d675f1d8a9f98a1"
      },
      "source": [
        "history = model.fit(\n",
        "    train_generator,\n",
        "    epochs=50,\n",
        "    batch_size=batch_size,\n",
        "    validation_data=validation_generator\n",
        ")"
      ],
      "outputs": [],
      "execution_count": null
    },
    {
      "metadata": {
        "id": "36a1513b151e78df"
      },
      "cell_type": "code",
      "source": [
        "test_loss, test_accuracy = model.evaluate(test_generator)\n",
        "test_accuracy"
      ],
      "id": "36a1513b151e78df",
      "outputs": [],
      "execution_count": null
    },
    {
      "cell_type": "code",
      "source": [],
      "metadata": {
        "id": "VLDRkrTFjQ2l"
      },
      "id": "VLDRkrTFjQ2l",
      "execution_count": null,
      "outputs": []
    }
  ],
  "metadata": {
    "kernelspec": {
      "display_name": "Python 3",
      "name": "python3"
    },
    "language_info": {
      "codemirror_mode": {
        "name": "ipython",
        "version": 3
      },
      "file_extension": ".py",
      "mimetype": "text/x-python",
      "name": "python",
      "nbconvert_exporter": "python",
      "pygments_lexer": "ipython3",
      "version": "3.9.6"
    },
    "colab": {
      "provenance": [],
      "gpuType": "T4"
    },
    "accelerator": "GPU"
  },
  "nbformat": 4,
  "nbformat_minor": 5
}
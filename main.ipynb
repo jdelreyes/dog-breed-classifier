{
 "cells": [
  {
   "cell_type": "code",
   "id": "initial_id",
   "metadata": {
    "collapsed": true,
    "id": "initial_id"
   },
   "source": [
    "import os, shutil\n",
    "\n",
    "import keras\n",
    "from keras.constraints import max_norm\n",
    "\n",
    "import matplotlib.pyplot as plt\n",
    "import tensorflow as tf\n",
    "\n",
    "os.environ['TF_CPP_MIN_LOG_LEVEL'] = '1'\n",
    "\n",
    "import numpy as np"
   ],
   "outputs": [],
   "execution_count": null
  },
  {
   "cell_type": "code",
   "id": "POeGHV6NhqOd",
   "metadata": {
    "colab": {
     "base_uri": "https://localhost:8080/"
    },
    "id": "POeGHV6NhqOd",
    "outputId": "b4017850-7507-4dbb-b43d-00491f2ceee8"
   },
   "source": [
    "# google drive\n",
    "from google.colab import drive\n",
    "\n",
    "drive.mount('/content/drive')"
   ],
   "outputs": [],
   "execution_count": null
  },
  {
   "cell_type": "code",
   "id": "XF1eVsxWbwhw",
   "metadata": {
    "id": "XF1eVsxWbwhw"
   },
   "source": [
    "# google drive path\n",
    "original_data_dir = '/content/drive/MyDrive/Colab Notebooks/dog-breed-classifier-small/dog-breeds'\n",
    "base_dir = '/content/drive/MyDrive/Colab Notebooks/dog-breed-classifier-small/load-data'"
   ],
   "outputs": [],
   "execution_count": null
  },
  {
   "cell_type": "code",
   "id": "7Peg_uRJcFKm",
   "metadata": {
    "id": "7Peg_uRJcFKm"
   },
   "source": [
    "# local path\n",
    "original_data_dir = './dog-breeds'\n",
    "base_dir = './load-data'"
   ],
   "outputs": [],
   "execution_count": null
  },
  {
   "cell_type": "code",
   "id": "56a5a09c77b16a57",
   "metadata": {
    "id": "56a5a09c77b16a57"
   },
   "source": [
    "train_dir = os.path.join(base_dir, 'train')\n",
    "validation_dir = os.path.join(base_dir, 'validation')\n",
    "test_dir = os.path.join(base_dir, 'test')"
   ],
   "outputs": [],
   "execution_count": null
  },
  {
   "cell_type": "code",
   "id": "5187351e3b56570a",
   "metadata": {
    "id": "5187351e3b56570a"
   },
   "source": [
    "os.mkdir(base_dir)\n",
    "os.mkdir(train_dir)\n",
    "os.mkdir(validation_dir)\n",
    "os.mkdir(test_dir)"
   ],
   "outputs": [],
   "execution_count": null
  },
  {
   "cell_type": "code",
   "id": "e3a87db9070f3208",
   "metadata": {
    "id": "e3a87db9070f3208"
   },
   "source": [
    "dog_breed_dir_list = os.listdir(original_data_dir)\n",
    "dog_breeds = {}"
   ],
   "outputs": [],
   "execution_count": null
  },
  {
   "cell_type": "code",
   "id": "8299be63945b1cff",
   "metadata": {
    "id": "8299be63945b1cff"
   },
   "source": [
    "for dog_breed_dir in dog_breed_dir_list:\n",
    "    DIR = os.path.join(original_data_dir, dog_breed_dir)\n",
    "\n",
    "    size = len([name for name in os.listdir(DIR) if os.path.isfile(os.path.join(DIR, name))])\n",
    "    dog_breeds[dog_breed_dir] = {'size': size}"
   ],
   "outputs": [],
   "execution_count": null
  },
  {
   "cell_type": "code",
   "id": "853fb4a342253e8c",
   "metadata": {
    "id": "853fb4a342253e8c"
   },
   "source": [
    "for dog_breed in dog_breeds:\n",
    "    TEN_PERCENT = round(dog_breeds[dog_breed]['size'] * 0.1)\n",
    "    EIGHTY_PERCENT = round(dog_breeds[dog_breed]['size'] * 0.8)\n",
    "\n",
    "    validation_size = TEN_PERCENT\n",
    "    test_size = TEN_PERCENT + TEN_PERCENT\n",
    "    training_size = TEN_PERCENT + TEN_PERCENT + EIGHTY_PERCENT\n",
    "\n",
    "    dog_breed_validation_dir = os.path.join(validation_dir, dog_breed)\n",
    "    dog_breed_test_dir = os.path.join(test_dir, dog_breed)\n",
    "    dog_breed_train_dir = os.path.join(train_dir, dog_breed)\n",
    "\n",
    "    os.mkdir(dog_breed_validation_dir)\n",
    "    os.mkdir(dog_breed_test_dir)\n",
    "    os.mkdir(dog_breed_train_dir)\n",
    "\n",
    "    for x in ['{}.jpg'.format(i) for i in range(1, validation_size)]:\n",
    "        src = os.path.join(original_data_dir, dog_breed, x)\n",
    "        dst = os.path.join(dog_breed_validation_dir, x)\n",
    "        shutil.copyfile(src, dst)\n",
    "\n",
    "    for x in ['{}.jpg'.format(i) for i in range(validation_size, test_size)]:\n",
    "        src = os.path.join(original_data_dir, dog_breed, x)\n",
    "        dst = os.path.join(dog_breed_test_dir, x)\n",
    "        shutil.copyfile(src, dst)\n",
    "\n",
    "    for x in ['{}.jpg'.format(i) for i in range(test_size, training_size)]:\n",
    "        src = os.path.join(original_data_dir, dog_breed, x)\n",
    "        dst = os.path.join(dog_breed_train_dir, x)\n",
    "        shutil.copyfile(src, dst)"
   ],
   "outputs": [],
   "execution_count": null
  },
  {
   "cell_type": "markdown",
   "source": [
    "# Convolution"
   ],
   "metadata": {
    "id": "Ln1sDUAf8o2N"
   },
   "id": "Ln1sDUAf8o2N"
  },
  {
   "cell_type": "code",
   "source": [
    "num_classes = 10\n",
    "batch_size = 512\n",
    "target_size = 150"
   ],
   "metadata": {
    "id": "Df4HZCuK9NN3"
   },
   "id": "Df4HZCuK9NN3",
   "outputs": [],
   "execution_count": null
  },
  {
   "cell_type": "code",
   "id": "feS-B6WIVCJV",
   "metadata": {
    "id": "feS-B6WIVCJV"
   },
   "source": [
    "from keras.applications import VGG16"
   ],
   "outputs": [],
   "execution_count": null
  },
  {
   "cell_type": "code",
   "id": "phpMoKeAVItV",
   "metadata": {
    "id": "phpMoKeAVItV"
   },
   "source": [
    "conv_base = VGG16(weights='imagenet',\n",
    "                  include_top=False,\n",
    "                  input_shape=(150, 150, 3))"
   ],
   "outputs": [],
   "execution_count": null
  },
  {
   "cell_type": "code",
   "id": "lcb_jvd9Vz6s",
   "metadata": {
    "id": "lcb_jvd9Vz6s"
   },
   "source": [
    "conv_base.trainable = False"
   ],
   "outputs": [],
   "execution_count": null
  },
  {
   "metadata": {},
   "cell_type": "markdown",
   "source": "# Model",
   "id": "6696fdbefefb8caf"
  },
  {
   "cell_type": "code",
   "id": "4fac219537613786",
   "metadata": {
    "id": "4fac219537613786"
   },
   "source": [
    "model = keras.Sequential([\n",
    "    conv_base,\n",
    "    keras.layers.Flatten(),\n",
    "    keras.layers.Dense(512, activation='relu'),\n",
    "    keras.layers.Dropout(0.5),\n",
    "    keras.layers.Dense(256, activation='relu'),\n",
    "    keras.layers.Dropout(0.5),\n",
    "    keras.layers.Dense(128, activation='relu'),\n",
    "    keras.layers.Dropout(0.5),\n",
    "    keras.layers.Dense(num_classes, activation='softmax')\n",
    "])"
   ],
   "outputs": [],
   "execution_count": null
  },
  {
   "cell_type": "code",
   "id": "a665d003be4cb82f",
   "metadata": {
    "id": "a665d003be4cb82f"
   },
   "source": [
    "model.compile(optimizer=\"adam\", loss='categorical_crossentropy', metrics=['accuracy'])"
   ],
   "outputs": [],
   "execution_count": null
  },
  {
   "cell_type": "code",
   "id": "5JVcg2jfQ7mv",
   "metadata": {
    "id": "5JVcg2jfQ7mv"
   },
   "source": [
    "model.summary()"
   ],
   "outputs": [],
   "execution_count": null
  },
  {
   "cell_type": "code",
   "id": "4IfiimBjGSzm",
   "metadata": {
    "id": "4IfiimBjGSzm"
   },
   "source": [
    "train_datagen = tf.keras.preprocessing.image.ImageDataGenerator(\n",
    "    rescale=1. / 255,\n",
    "    rotation_range=40,\n",
    "    width_shift_range=0.2,\n",
    "    height_shift_range=0.2,\n",
    "    shear_range=0.2,\n",
    "    zoom_range=0.2,\n",
    "    horizontal_flip=True,\n",
    "    fill_mode='nearest'\n",
    ")\n",
    "\n",
    "test_datagen = tf.keras.preprocessing.image.ImageDataGenerator(rescale=1. / 255)\n",
    "\n",
    "train_generator = train_datagen.flow_from_directory(\n",
    "    train_dir,\n",
    "    target_size=(target_size, target_size),\n",
    "    batch_size=batch_size,\n",
    "    class_mode='categorical'\n",
    ")\n",
    "\n",
    "validation_generator = test_datagen.flow_from_directory(\n",
    "    validation_dir,\n",
    "    target_size=(target_size, target_size),\n",
    "    batch_size=batch_size,\n",
    "    class_mode='categorical'\n",
    ")\n",
    "\n",
    "test_generator = test_datagen.flow_from_directory(\n",
    "    test_dir,\n",
    "    target_size=(target_size, target_size),\n",
    "    batch_size=batch_size,\n",
    "    class_mode='categorical'\n",
    ")"
   ],
   "outputs": [],
   "execution_count": null
  },
  {
   "cell_type": "code",
   "id": "d675f1d8a9f98a1",
   "metadata": {
    "colab": {
     "background_save": true
    },
    "id": "d675f1d8a9f98a1"
   },
   "source": [
    "history = model.fit(\n",
    "    train_generator,\n",
    "    epochs=50,\n",
    "    validation_data=validation_generator\n",
    ")"
   ],
   "outputs": [],
   "execution_count": null
  },
  {
   "cell_type": "code",
   "id": "36a1513b151e78df",
   "metadata": {
    "colab": {
     "background_save": true
    },
    "id": "36a1513b151e78df"
   },
   "source": "test_loss, test_accuracy = model.evaluate(test_generator)",
   "outputs": [],
   "execution_count": null
  },
  {
   "metadata": {},
   "cell_type": "code",
   "source": "test_accuracy",
   "id": "9e0adb108ff01389",
   "outputs": [],
   "execution_count": null
  },
  {
   "metadata": {},
   "cell_type": "code",
   "source": [
    "plt.figure(figsize=(8.0, 6.0))\n",
    "plt.plot(history.history['accuracy'], 'blue', linewidth=3.0)\n",
    "plt.plot(history.history['val_accuracy'], 'red', ls='--', linewidth=3.0)\n",
    "plt.legend(['Training Accuracy', 'Validation Accuracy'], fontsize=18, loc='lower right')\n",
    "plt.xlabel('Epochs', fontsize=16)\n",
    "plt.ylabel('Accuracy', fontsize=16)\n",
    "plt.title('Accuracy Curves', fontsize=16)"
   ],
   "id": "5652848ae7a12a86",
   "outputs": [],
   "execution_count": null
  },
  {
   "metadata": {},
   "cell_type": "code",
   "source": "model.save('model.keras')",
   "id": "a2cb8d7716bd81b2",
   "outputs": [],
   "execution_count": null
  },
  {
   "metadata": {},
   "cell_type": "code",
   "source": "",
   "id": "e30eee86fc426415",
   "outputs": [],
   "execution_count": null
  }
 ],
 "metadata": {
  "accelerator": "GPU",
  "colab": {
   "gpuType": "T4",
   "provenance": []
  },
  "kernelspec": {
   "display_name": "Python 3 (ipykernel)",
   "name": "python3",
   "language": "python"
  },
  "language_info": {
   "codemirror_mode": {
    "name": "ipython",
    "version": 3
   },
   "file_extension": ".py",
   "mimetype": "text/x-python",
   "name": "python",
   "nbconvert_exporter": "python",
   "pygments_lexer": "ipython3",
   "version": "3.9.6"
  }
 },
 "nbformat": 4,
 "nbformat_minor": 5
}
